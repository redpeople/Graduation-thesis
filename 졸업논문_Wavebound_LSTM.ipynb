{
 "cells": [
  {
   "cell_type": "code",
   "execution_count": 1,
   "metadata": {},
   "outputs": [
    {
     "name": "stdout",
     "output_type": "stream",
     "text": [
      "cuda available: False\n"
     ]
    }
   ],
   "source": [
    "import pandas as pd\n",
    "import numpy as np\n",
    "import matplotlib.pyplot as plt\n",
    "from tqdm import tqdm\n",
    "\n",
    "from sklearn.preprocessing import StandardScaler\n",
    "\n",
    "import torch\n",
    "import torch.nn as nn\n",
    "import torch.optim as optim\n",
    "from torch.utils.data import DataLoader, TensorDataset\n",
    "\n",
    "# GPU 사용 가능하면 GPU로 이동\n",
    "print('cuda available:',torch.cuda.is_available())\n",
    "device = torch.device(\"cuda\" if torch.cuda.is_available() else \"cpu\")"
   ]
  },
  {
   "cell_type": "code",
   "execution_count": 2,
   "metadata": {},
   "outputs": [
    {
     "name": "stdout",
     "output_type": "stream",
     "text": [
      "      Unnamed: 0        Date    Close     Open     High      Low  \\\n",
      "0             49  2017-02-19   1048.9   1052.3   1056.5   1037.7   \n",
      "1             50  2017-02-20   1077.6   1048.9   1081.8   1041.0   \n",
      "2             51  2017-02-21   1119.0   1077.6   1123.0   1073.5   \n",
      "3             52  2017-02-22   1120.5   1119.0   1132.3   1094.8   \n",
      "4             53  2017-02-23   1171.9   1120.5   1181.6   1113.5   \n",
      "...          ...         ...      ...      ...      ...      ...   \n",
      "2776        2825  2024-09-26  65175.7  63157.2  65770.9  62693.3   \n",
      "2777        2826  2024-09-27  65776.3  65168.8  66440.7  64839.2   \n",
      "2778        2827  2024-09-28  65866.5  65775.6  66232.5  65438.1   \n",
      "2779        2828  2024-09-29  65607.1  65862.8  66065.7  65436.8   \n",
      "2780        2829  2024-09-30  63339.2  65607.0  65607.0  62901.1   \n",
      "\n",
      "      Trade_Volume  change_percent rise_fall        SMA           EMA  \\\n",
      "0            17950           -0.32      rise    951.056    980.292295   \n",
      "1            31010            2.73      rise    952.700    981.260531   \n",
      "2            57050            3.85      rise    954.740    982.631073   \n",
      "3            47910            0.13      rise    956.484    984.002903   \n",
      "4            65740            4.59      rise    957.214    985.872526   \n",
      "...            ...             ...       ...        ...           ...   \n",
      "2776         96060            3.20      rise  59932.044  59653.490060   \n",
      "2777         80550            0.92      rise  60013.576  59714.413540   \n",
      "2778         35000            0.14      fall  60113.894  59775.628330   \n",
      "2779         32600           -0.39      fall  60207.402  59833.652930   \n",
      "2780        101700           -3.46      fall  60299.920  59868.533990   \n",
      "\n",
      "      USD_KRW_Exchange_Rate  \n",
      "0                   1145.38  \n",
      "1                   1145.38  \n",
      "2                   1142.89  \n",
      "3                   1138.48  \n",
      "4                   1133.10  \n",
      "...                     ...  \n",
      "2776                1312.72  \n",
      "2777                1308.30  \n",
      "2778                1308.30  \n",
      "2779                1308.30  \n",
      "2780                1317.01  \n",
      "\n",
      "[2781 rows x 12 columns]\n"
     ]
    }
   ],
   "source": [
    "bitcoin_data = pd.read_csv('D:/김홍민/김재윤 교수님 연구실/졸업 준비/clean_bitcoin_data_with_usd_krw_updated.csv')\n",
    "\n",
    "bitcoin_data.isna().sum()\n",
    "\n",
    "print(bitcoin_data)"
   ]
  },
  {
   "cell_type": "code",
   "execution_count": null,
   "metadata": {},
   "outputs": [
    {
     "data": {
      "text/html": [
       "<div>\n",
       "<style scoped>\n",
       "    .dataframe tbody tr th:only-of-type {\n",
       "        vertical-align: middle;\n",
       "    }\n",
       "\n",
       "    .dataframe tbody tr th {\n",
       "        vertical-align: top;\n",
       "    }\n",
       "\n",
       "    .dataframe thead th {\n",
       "        text-align: right;\n",
       "    }\n",
       "</style>\n",
       "<table border=\"1\" class=\"dataframe\">\n",
       "  <thead>\n",
       "    <tr style=\"text-align: right;\">\n",
       "      <th></th>\n",
       "      <th>Date</th>\n",
       "      <th>Close</th>\n",
       "      <th>Open</th>\n",
       "      <th>High</th>\n",
       "      <th>Low</th>\n",
       "      <th>Trade_Volume</th>\n",
       "      <th>rise_fall</th>\n",
       "      <th>SMA</th>\n",
       "      <th>EMA</th>\n",
       "      <th>USD_KRW_Exchange_Rate</th>\n",
       "    </tr>\n",
       "  </thead>\n",
       "  <tbody>\n",
       "    <tr>\n",
       "      <th>0</th>\n",
       "      <td>2017-02-19</td>\n",
       "      <td>1048.9</td>\n",
       "      <td>1052.3</td>\n",
       "      <td>1056.5</td>\n",
       "      <td>1037.7</td>\n",
       "      <td>17950</td>\n",
       "      <td>rise</td>\n",
       "      <td>951.056</td>\n",
       "      <td>980.292295</td>\n",
       "      <td>1145.38</td>\n",
       "    </tr>\n",
       "    <tr>\n",
       "      <th>1</th>\n",
       "      <td>2017-02-20</td>\n",
       "      <td>1077.6</td>\n",
       "      <td>1048.9</td>\n",
       "      <td>1081.8</td>\n",
       "      <td>1041.0</td>\n",
       "      <td>31010</td>\n",
       "      <td>rise</td>\n",
       "      <td>952.700</td>\n",
       "      <td>981.260531</td>\n",
       "      <td>1145.38</td>\n",
       "    </tr>\n",
       "    <tr>\n",
       "      <th>2</th>\n",
       "      <td>2017-02-21</td>\n",
       "      <td>1119.0</td>\n",
       "      <td>1077.6</td>\n",
       "      <td>1123.0</td>\n",
       "      <td>1073.5</td>\n",
       "      <td>57050</td>\n",
       "      <td>rise</td>\n",
       "      <td>954.740</td>\n",
       "      <td>982.631073</td>\n",
       "      <td>1142.89</td>\n",
       "    </tr>\n",
       "    <tr>\n",
       "      <th>3</th>\n",
       "      <td>2017-02-22</td>\n",
       "      <td>1120.5</td>\n",
       "      <td>1119.0</td>\n",
       "      <td>1132.3</td>\n",
       "      <td>1094.8</td>\n",
       "      <td>47910</td>\n",
       "      <td>rise</td>\n",
       "      <td>956.484</td>\n",
       "      <td>984.002903</td>\n",
       "      <td>1138.48</td>\n",
       "    </tr>\n",
       "    <tr>\n",
       "      <th>4</th>\n",
       "      <td>2017-02-23</td>\n",
       "      <td>1171.9</td>\n",
       "      <td>1120.5</td>\n",
       "      <td>1181.6</td>\n",
       "      <td>1113.5</td>\n",
       "      <td>65740</td>\n",
       "      <td>rise</td>\n",
       "      <td>957.214</td>\n",
       "      <td>985.872526</td>\n",
       "      <td>1133.10</td>\n",
       "    </tr>\n",
       "  </tbody>\n",
       "</table>\n",
       "</div>"
      ],
      "text/plain": [
       "         Date   Close    Open    High     Low  Trade_Volume rise_fall  \\\n",
       "0  2017-02-19  1048.9  1052.3  1056.5  1037.7         17950      rise   \n",
       "1  2017-02-20  1077.6  1048.9  1081.8  1041.0         31010      rise   \n",
       "2  2017-02-21  1119.0  1077.6  1123.0  1073.5         57050      rise   \n",
       "3  2017-02-22  1120.5  1119.0  1132.3  1094.8         47910      rise   \n",
       "4  2017-02-23  1171.9  1120.5  1181.6  1113.5         65740      rise   \n",
       "\n",
       "       SMA         EMA  USD_KRW_Exchange_Rate  \n",
       "0  951.056  980.292295                1145.38  \n",
       "1  952.700  981.260531                1145.38  \n",
       "2  954.740  982.631073                1142.89  \n",
       "3  956.484  984.002903                1138.48  \n",
       "4  957.214  985.872526                1133.10  "
      ]
     },
     "execution_count": 3,
     "metadata": {},
     "output_type": "execute_result"
    }
   ],
   "source": [
    "bitcoin_data.drop(['Unnamed: 0', 'change_percent'], axis=1, inplace=True) # delete adjusted close\n",
    "bitcoin_data.rename(columns= {'USD_KRW_Exchange_Rate' : 'EXR'}, inplace= True)\n",
    "bitcoin_data.head()"
   ]
  },
  {
   "cell_type": "code",
   "execution_count": 4,
   "metadata": {},
   "outputs": [],
   "source": [
    "# Convert 'Date' to datetime and set it as index\n",
    "bitcoin_data['Date'] = pd.to_datetime(bitcoin_data['Date'])\n",
    "bitcoin_data.set_index('Date', inplace=True)"
   ]
  },
  {
   "cell_type": "code",
   "execution_count": 5,
   "metadata": {},
   "outputs": [],
   "source": [
    "# 문자형인 종속 변수를 수치형으로 변환\n",
    "bitcoin_data['rise_fall'] = bitcoin_data['rise_fall'].map({'rise': 1, 'fall': 0})"
   ]
  },
  {
   "cell_type": "code",
   "execution_count": 10,
   "metadata": {},
   "outputs": [],
   "source": [
    "# Data split based on the provided date threshold\n",
    "idx = pd.Timestamp('2023-01-01')\n",
    "train_data = bitcoin_data[bitcoin_data.index < idx]\n",
    "test_data = bitcoin_data[bitcoin_data.index >= idx]"
   ]
  },
  {
   "cell_type": "code",
   "execution_count": 11,
   "metadata": {},
   "outputs": [
    {
     "name": "stdout",
     "output_type": "stream",
     "text": [
      "train: 2142\n",
      "test: 639\n",
      "train ratio: 77.02%\n"
     ]
    }
   ],
   "source": [
    "print('train:',train_data.shape[0])\n",
    "print('test:',test_data.shape[0])\n",
    "print(f'train ratio: {(train_data.shape[0] / bitcoin_data.shape[0])*100:.2f}%')"
   ]
  },
  {
   "cell_type": "code",
   "execution_count": 12,
   "metadata": {},
   "outputs": [],
   "source": [
    "label_col = 'rise_fall'\n",
    "features = [col for col in bitcoin_data.columns if col != label_col and col != 'Date']\n",
    "\n",
    "scaler = StandardScaler()\n",
    "train_scaled = scaler.fit_transform(train_data[features])\n",
    "test_scaled = scaler.transform(test_data[features])"
   ]
  },
  {
   "cell_type": "code",
   "execution_count": 13,
   "metadata": {},
   "outputs": [],
   "source": [
    "# Convert data into PyTorch tensors\n",
    "train_features = torch.tensor(train_scaled, dtype=torch.float32)\n",
    "test_features = torch.tensor(test_scaled, dtype=torch.float32)\n",
    "train_labels = torch.tensor(train_data[label_col].values, dtype=torch.float32)\n",
    "test_labels = torch.tensor(test_data[label_col].values, dtype=torch.float32)"
   ]
  },
  {
   "cell_type": "code",
   "execution_count": 14,
   "metadata": {},
   "outputs": [],
   "source": [
    "# Prepare data for LSTM (sequence data)\n",
    "def create_sequences(data, labels, seq_length):\n",
    "    sequences = []\n",
    "    for i in range(len(data) - seq_length + 1):\n",
    "        seq = data[i:i + seq_length]  # Take 7 rows of data as input\n",
    "        label = labels[i + seq_length - 1]  # Label is of the last row in the sequence (7th row)\n",
    "        sequences.append((seq, label))\n",
    "    return sequences"
   ]
  },
  {
   "cell_type": "code",
   "execution_count": 15,
   "metadata": {},
   "outputs": [],
   "source": [
    "# Define sequence length as 7\n",
    "SEQ_LENGTH = 10\n",
    "\n",
    "# Create sequences for training and testing\n",
    "train_sequences = create_sequences(train_features, train_labels, SEQ_LENGTH)\n",
    "test_sequences = create_sequences(test_features, test_labels, SEQ_LENGTH)"
   ]
  },
  {
   "cell_type": "code",
   "execution_count": 16,
   "metadata": {},
   "outputs": [],
   "source": [
    "# DataLoader preparation\n",
    "BATCH_SIZE = 64\n",
    "train_loader = DataLoader(train_sequences, batch_size=BATCH_SIZE, shuffle=False)\n",
    "test_loader = DataLoader(test_sequences, batch_size=1, shuffle=False)"
   ]
  },
  {
   "cell_type": "code",
   "execution_count": 19,
   "metadata": {},
   "outputs": [],
   "source": [
    "# Define the LSTM model with Dropout and the target network for WaveBound\n",
    "class LSTMClassifier(nn.Module):\n",
    "    def __init__(self, input_size, hidden_size, num_layers, output_size, dropout_rate):\n",
    "        super(LSTMClassifier, self).__init__()\n",
    "        self.lstm = nn.LSTM(input_size, hidden_size, num_layers, batch_first=True, dropout=dropout_rate)\n",
    "        self.fc = nn.Linear(hidden_size, output_size)\n",
    "        self.dropout = nn.Dropout(dropout_rate)\n",
    "        self.sigmoid = nn.Sigmoid()\n",
    "    \n",
    "    def forward(self, x):\n",
    "        _, (hn, _) = self.lstm(x)\n",
    "        out = self.dropout(hn[-1])\n",
    "        out = self.fc(out)\n",
    "        return self.sigmoid(out)"
   ]
  },
  {
   "cell_type": "code",
   "execution_count": 20,
   "metadata": {},
   "outputs": [],
   "source": [
    "# Model parameters\n",
    "INPUT_SIZE = len(features)\n",
    "HIDDEN_SIZE = 50\n",
    "NUM_LAYERS = 2\n",
    "OUTPUT_SIZE = 1\n",
    "DROPOUT_RATE = 0.1\n",
    "EMA_DECAY = 0.9\n",
    "EPSILON = 0.2  # Hyperparameter for WaveBound"
   ]
  },
  {
   "cell_type": "code",
   "execution_count": 21,
   "metadata": {},
   "outputs": [
    {
     "data": {
      "text/plain": [
       "<All keys matched successfully>"
      ]
     },
     "execution_count": 21,
     "metadata": {},
     "output_type": "execute_result"
    }
   ],
   "source": [
    "# Initialize the model and the target network\n",
    "model = LSTMClassifier(INPUT_SIZE, HIDDEN_SIZE, NUM_LAYERS, OUTPUT_SIZE, dropout_rate=DROPOUT_RATE)\n",
    "target_model = LSTMClassifier(INPUT_SIZE, HIDDEN_SIZE, NUM_LAYERS, OUTPUT_SIZE, dropout_rate=DROPOUT_RATE)\n",
    "target_model.load_state_dict(model.state_dict())"
   ]
  },
  {
   "cell_type": "code",
   "execution_count": 22,
   "metadata": {},
   "outputs": [
    {
     "data": {
      "text/plain": [
       "LSTMClassifier(\n",
       "  (lstm): LSTM(8, 50, num_layers=2, batch_first=True, dropout=0.1)\n",
       "  (fc): Linear(in_features=50, out_features=1, bias=True)\n",
       "  (dropout): Dropout(p=0.1, inplace=False)\n",
       "  (sigmoid): Sigmoid()\n",
       ")"
      ]
     },
     "execution_count": 22,
     "metadata": {},
     "output_type": "execute_result"
    }
   ],
   "source": [
    "model.to(device)\n",
    "target_model.to(device)"
   ]
  },
  {
   "cell_type": "code",
   "execution_count": 23,
   "metadata": {},
   "outputs": [],
   "source": [
    "# Function to evaluate accuracy on the test dataset\n",
    "def evaluate_accuracy(model, test_loader, device):\n",
    "    model.eval()  # Set model to evaluation mode\n",
    "    correct = 0\n",
    "    total = 0\n",
    "    with torch.no_grad():  # Disable gradient calculation for evaluation\n",
    "        for sequences, labels in test_loader:\n",
    "            sequences, labels = sequences.to(device), labels.to(device)\n",
    "            outputs = model(sequences)\n",
    "            predicted = (outputs > 0.5).float()  # Sigmoid threshold at 0.5\n",
    "            total += labels.size(0)\n",
    "            correct += (predicted.squeeze() == labels).sum().item()\n",
    "    accuracy = correct / total\n",
    "    return accuracy"
   ]
  },
  {
   "cell_type": "code",
   "execution_count": 24,
   "metadata": {},
   "outputs": [],
   "source": [
    "# Define loss function and optimizer\n",
    "criterion = nn.BCELoss()\n",
    "optimizer = optim.RMSprop(model.parameters(), lr=0.001)"
   ]
  },
  {
   "cell_type": "code",
   "execution_count": 25,
   "metadata": {},
   "outputs": [
    {
     "name": "stderr",
     "output_type": "stream",
     "text": [
      "                                                                           \r"
     ]
    },
    {
     "name": "stdout",
     "output_type": "stream",
     "text": [
      "Epoch 50/2000, Loss: 0.6857, Test Accuracy: 0.4937\n",
      "Best model saved with accuracy: 0.4937\n"
     ]
    },
    {
     "name": "stderr",
     "output_type": "stream",
     "text": [
      "                                                                            \r"
     ]
    },
    {
     "name": "stdout",
     "output_type": "stream",
     "text": [
      "Epoch 100/2000, Loss: 0.6773, Test Accuracy: 0.5333\n",
      "Best model saved with accuracy: 0.5333\n"
     ]
    },
    {
     "name": "stderr",
     "output_type": "stream",
     "text": [
      "                                                                            \r"
     ]
    },
    {
     "name": "stdout",
     "output_type": "stream",
     "text": [
      "Epoch 150/2000, Loss: 0.6613, Test Accuracy: 0.4905\n"
     ]
    },
    {
     "name": "stderr",
     "output_type": "stream",
     "text": [
      "                                                                            \r"
     ]
    },
    {
     "name": "stdout",
     "output_type": "stream",
     "text": [
      "Epoch 200/2000, Loss: 0.6530, Test Accuracy: 0.4921\n"
     ]
    },
    {
     "name": "stderr",
     "output_type": "stream",
     "text": [
      "                                                                            \r"
     ]
    },
    {
     "name": "stdout",
     "output_type": "stream",
     "text": [
      "Epoch 250/2000, Loss: 0.6393, Test Accuracy: 0.4952\n"
     ]
    },
    {
     "name": "stderr",
     "output_type": "stream",
     "text": [
      "                                                                            \r"
     ]
    },
    {
     "name": "stdout",
     "output_type": "stream",
     "text": [
      "Epoch 300/2000, Loss: 0.6285, Test Accuracy: 0.4873\n"
     ]
    },
    {
     "name": "stderr",
     "output_type": "stream",
     "text": [
      "                                                                            \r"
     ]
    },
    {
     "name": "stdout",
     "output_type": "stream",
     "text": [
      "Epoch 350/2000, Loss: 0.6173, Test Accuracy: 0.5286\n"
     ]
    },
    {
     "name": "stderr",
     "output_type": "stream",
     "text": [
      "                                                                            \r"
     ]
    },
    {
     "name": "stdout",
     "output_type": "stream",
     "text": [
      "Epoch 400/2000, Loss: 0.6196, Test Accuracy: 0.4889\n"
     ]
    },
    {
     "name": "stderr",
     "output_type": "stream",
     "text": [
      "                                                                            \r"
     ]
    },
    {
     "name": "stdout",
     "output_type": "stream",
     "text": [
      "Epoch 450/2000, Loss: 0.5955, Test Accuracy: 0.5063\n"
     ]
    },
    {
     "name": "stderr",
     "output_type": "stream",
     "text": [
      "                                                                            \r"
     ]
    },
    {
     "name": "stdout",
     "output_type": "stream",
     "text": [
      "Epoch 500/2000, Loss: 0.5687, Test Accuracy: 0.4937\n"
     ]
    },
    {
     "name": "stderr",
     "output_type": "stream",
     "text": [
      "                                                                            \r"
     ]
    },
    {
     "name": "stdout",
     "output_type": "stream",
     "text": [
      "Epoch 550/2000, Loss: 0.5417, Test Accuracy: 0.4873\n"
     ]
    },
    {
     "name": "stderr",
     "output_type": "stream",
     "text": [
      "                                                                             \r"
     ]
    },
    {
     "name": "stdout",
     "output_type": "stream",
     "text": [
      "Epoch 600/2000, Loss: 0.5015, Test Accuracy: 0.4857\n"
     ]
    },
    {
     "name": "stderr",
     "output_type": "stream",
     "text": [
      "                                                                             \r"
     ]
    },
    {
     "name": "stdout",
     "output_type": "stream",
     "text": [
      "Epoch 650/2000, Loss: 0.4700, Test Accuracy: 0.4825\n"
     ]
    },
    {
     "name": "stderr",
     "output_type": "stream",
     "text": [
      "                                                                             \r"
     ]
    },
    {
     "name": "stdout",
     "output_type": "stream",
     "text": [
      "Epoch 700/2000, Loss: 0.4809, Test Accuracy: 0.4825\n"
     ]
    },
    {
     "name": "stderr",
     "output_type": "stream",
     "text": [
      "                                                                              \r"
     ]
    },
    {
     "name": "stdout",
     "output_type": "stream",
     "text": [
      "Epoch 750/2000, Loss: 0.4509, Test Accuracy: 0.4968\n"
     ]
    },
    {
     "name": "stderr",
     "output_type": "stream",
     "text": [
      "                                                                              \r"
     ]
    },
    {
     "name": "stdout",
     "output_type": "stream",
     "text": [
      "Epoch 800/2000, Loss: 0.4321, Test Accuracy: 0.5079\n"
     ]
    },
    {
     "name": "stderr",
     "output_type": "stream",
     "text": [
      "                                                                              \r"
     ]
    },
    {
     "name": "stdout",
     "output_type": "stream",
     "text": [
      "Epoch 850/2000, Loss: 0.4407, Test Accuracy: 0.4921\n"
     ]
    },
    {
     "name": "stderr",
     "output_type": "stream",
     "text": [
      "                                                                               \r"
     ]
    },
    {
     "name": "stdout",
     "output_type": "stream",
     "text": [
      "Epoch 900/2000, Loss: 0.3909, Test Accuracy: 0.4873\n"
     ]
    },
    {
     "name": "stderr",
     "output_type": "stream",
     "text": [
      "                                                                               \r"
     ]
    },
    {
     "name": "stdout",
     "output_type": "stream",
     "text": [
      "Epoch 950/2000, Loss: 0.3434, Test Accuracy: 0.4921\n"
     ]
    },
    {
     "name": "stderr",
     "output_type": "stream",
     "text": [
      "                                                                                \r"
     ]
    },
    {
     "name": "stdout",
     "output_type": "stream",
     "text": [
      "Epoch 1000/2000, Loss: 0.3575, Test Accuracy: 0.4905\n"
     ]
    },
    {
     "name": "stderr",
     "output_type": "stream",
     "text": [
      "                                                                                \r"
     ]
    },
    {
     "name": "stdout",
     "output_type": "stream",
     "text": [
      "Epoch 1050/2000, Loss: 0.3152, Test Accuracy: 0.4968\n"
     ]
    },
    {
     "name": "stderr",
     "output_type": "stream",
     "text": [
      "                                                                                \r"
     ]
    },
    {
     "name": "stdout",
     "output_type": "stream",
     "text": [
      "Epoch 1100/2000, Loss: 0.3105, Test Accuracy: 0.4921\n"
     ]
    },
    {
     "name": "stderr",
     "output_type": "stream",
     "text": [
      "                                                                                \r"
     ]
    },
    {
     "name": "stdout",
     "output_type": "stream",
     "text": [
      "Epoch 1150/2000, Loss: 0.2820, Test Accuracy: 0.4937\n"
     ]
    },
    {
     "name": "stderr",
     "output_type": "stream",
     "text": [
      "                                                                                \r"
     ]
    },
    {
     "name": "stdout",
     "output_type": "stream",
     "text": [
      "Epoch 1200/2000, Loss: 0.2627, Test Accuracy: 0.4889\n"
     ]
    },
    {
     "name": "stderr",
     "output_type": "stream",
     "text": [
      "                                                                                \r"
     ]
    },
    {
     "name": "stdout",
     "output_type": "stream",
     "text": [
      "Epoch 1250/2000, Loss: 0.2445, Test Accuracy: 0.4905\n"
     ]
    },
    {
     "name": "stderr",
     "output_type": "stream",
     "text": [
      "                                                                                \r"
     ]
    },
    {
     "name": "stdout",
     "output_type": "stream",
     "text": [
      "Epoch 1300/2000, Loss: 0.2376, Test Accuracy: 0.5000\n"
     ]
    },
    {
     "name": "stderr",
     "output_type": "stream",
     "text": [
      "                                                                                \r"
     ]
    },
    {
     "name": "stdout",
     "output_type": "stream",
     "text": [
      "Epoch 1350/2000, Loss: 0.2099, Test Accuracy: 0.4984\n"
     ]
    },
    {
     "name": "stderr",
     "output_type": "stream",
     "text": [
      "                                                                                \r"
     ]
    },
    {
     "name": "stdout",
     "output_type": "stream",
     "text": [
      "Epoch 1400/2000, Loss: 0.2495, Test Accuracy: 0.4873\n"
     ]
    },
    {
     "name": "stderr",
     "output_type": "stream",
     "text": [
      "                                                                                \r"
     ]
    },
    {
     "name": "stdout",
     "output_type": "stream",
     "text": [
      "Epoch 1450/2000, Loss: 0.1744, Test Accuracy: 0.4921\n"
     ]
    },
    {
     "name": "stderr",
     "output_type": "stream",
     "text": [
      "                                                                                \r"
     ]
    },
    {
     "name": "stdout",
     "output_type": "stream",
     "text": [
      "Epoch 1500/2000, Loss: 0.1890, Test Accuracy: 0.4873\n"
     ]
    },
    {
     "name": "stderr",
     "output_type": "stream",
     "text": [
      "                                                                                \r"
     ]
    },
    {
     "name": "stdout",
     "output_type": "stream",
     "text": [
      "Epoch 1550/2000, Loss: 0.1874, Test Accuracy: 0.4968\n"
     ]
    },
    {
     "name": "stderr",
     "output_type": "stream",
     "text": [
      "                                                                                \r"
     ]
    },
    {
     "name": "stdout",
     "output_type": "stream",
     "text": [
      "Epoch 1600/2000, Loss: 0.1651, Test Accuracy: 0.4857\n"
     ]
    },
    {
     "name": "stderr",
     "output_type": "stream",
     "text": [
      "                                                                                \r"
     ]
    },
    {
     "name": "stdout",
     "output_type": "stream",
     "text": [
      "Epoch 1650/2000, Loss: 0.1507, Test Accuracy: 0.4825\n"
     ]
    },
    {
     "name": "stderr",
     "output_type": "stream",
     "text": [
      "                                                                                \r"
     ]
    },
    {
     "name": "stdout",
     "output_type": "stream",
     "text": [
      "Epoch 1700/2000, Loss: 0.1431, Test Accuracy: 0.4857\n"
     ]
    },
    {
     "name": "stderr",
     "output_type": "stream",
     "text": [
      "                                                                                \r"
     ]
    },
    {
     "name": "stdout",
     "output_type": "stream",
     "text": [
      "Epoch 1750/2000, Loss: 0.1082, Test Accuracy: 0.4794\n"
     ]
    },
    {
     "name": "stderr",
     "output_type": "stream",
     "text": [
      "                                                                                \r"
     ]
    },
    {
     "name": "stdout",
     "output_type": "stream",
     "text": [
      "Epoch 1800/2000, Loss: 0.1688, Test Accuracy: 0.5048\n"
     ]
    },
    {
     "name": "stderr",
     "output_type": "stream",
     "text": [
      "                                                                                \r"
     ]
    },
    {
     "name": "stdout",
     "output_type": "stream",
     "text": [
      "Epoch 1850/2000, Loss: 0.1337, Test Accuracy: 0.5000\n"
     ]
    },
    {
     "name": "stderr",
     "output_type": "stream",
     "text": [
      "                                                                                \r"
     ]
    },
    {
     "name": "stdout",
     "output_type": "stream",
     "text": [
      "Epoch 1900/2000, Loss: 0.1555, Test Accuracy: 0.4905\n"
     ]
    },
    {
     "name": "stderr",
     "output_type": "stream",
     "text": [
      "                                                                                \r"
     ]
    },
    {
     "name": "stdout",
     "output_type": "stream",
     "text": [
      "Epoch 1950/2000, Loss: 0.1080, Test Accuracy: 0.4889\n"
     ]
    },
    {
     "name": "stderr",
     "output_type": "stream",
     "text": [
      "                                                                                \r"
     ]
    },
    {
     "name": "stdout",
     "output_type": "stream",
     "text": [
      "Epoch 2000/2000, Loss: 0.1223, Test Accuracy: 0.5032\n"
     ]
    }
   ],
   "source": [
    "# Training loop with loss tracking, WaveBound regularization, and target model update\n",
    "EPOCHS = 2000\n",
    "train_losses = []\n",
    "\n",
    "best_accuracy = 0.0\n",
    "\n",
    "for epoch in range(EPOCHS):\n",
    "    model.train()\n",
    "    train_loss = 0.0\n",
    "    \n",
    "    # Use tqdm to create a progress bar for the training loop\n",
    "    progress_bar = tqdm(train_loader, desc=f'Epoch {epoch+1}/{EPOCHS}', leave=False)\n",
    "    \n",
    "    for sequences, labels in progress_bar:\n",
    "        sequences, labels = sequences.to(device), labels.to(device)\n",
    "        \n",
    "        optimizer.zero_grad()\n",
    "        outputs = model(sequences)\n",
    "        loss = criterion(outputs, labels.unsqueeze(1))\n",
    "        \n",
    "        # Compute the target model's output and its loss\n",
    "        with torch.no_grad():\n",
    "            target_outputs = target_model(sequences)\n",
    "            target_loss = criterion(target_outputs, labels.unsqueeze(1))\n",
    "        \n",
    "        # Apply WaveBound regularization to the loss\n",
    "        wavebound_loss = torch.abs(loss - (target_loss - EPSILON)) + (target_loss - EPSILON)\n",
    "        \n",
    "        # Backpropagation and optimization\n",
    "        wavebound_loss.backward()\n",
    "        optimizer.step()\n",
    "        train_loss += wavebound_loss.item()\n",
    "        \n",
    "        # Update tqdm progress bar with the current loss\n",
    "        progress_bar.set_postfix(loss=wavebound_loss.item())\n",
    "    \n",
    "    avg_train_loss = train_loss / len(train_loader)\n",
    "    train_losses.append(avg_train_loss)\n",
    "    \n",
    "    if (epoch + 1) % 50 == 0:  # Evaluate test accuracy every 50 epochs\n",
    "        test_accuracy = evaluate_accuracy(model, test_loader, device)\n",
    "        print(f'Epoch {epoch+1}/{EPOCHS}, Loss: {avg_train_loss:.4f}, Test Accuracy: {test_accuracy:.4f}')\n",
    "        \n",
    "        # If current test accuracy is the best, save the model\n",
    "        if test_accuracy > best_accuracy:\n",
    "            best_accuracy = test_accuracy\n",
    "            torch.save(model.state_dict(), \"lstm_wavebound.pth\")\n",
    "            print(f'Best model saved with accuracy: {best_accuracy:.4f}')\n",
    "    \n",
    "    # Update target model using EMA of the source model's parameters\n",
    "    for target_param, model_param in zip(target_model.parameters(), model.parameters()):\n",
    "        target_param.data = EMA_DECAY * target_param.data + (1 - EMA_DECAY) * model_param.data"
   ]
  },
  {
   "cell_type": "code",
   "execution_count": 26,
   "metadata": {},
   "outputs": [
    {
     "data": {
      "image/png": "[encoded data removed]",
      "text/plain": [
       "<Figure size 1000x500 with 1 Axes>"
      ]
     },
     "metadata": {},
     "output_type": "display_data"
    }
   ],
   "source": [
    "# Plot training loss\n",
    "plt.figure(figsize=(10, 5))\n",
    "plt.plot(range(1, EPOCHS + 1), train_losses, label='Training Loss')\n",
    "plt.title('Wavebound LSTM 2000Epoch Training Loss')\n",
    "plt.xlabel('Epoch')\n",
    "plt.ylabel('Loss')\n",
    "plt.grid()\n",
    "plt.legend()\n",
    "plt.tight_layout()\n",
    "plt.savefig('training_loss_wavebound.png')\n",
    "plt.show()"
   ]
  },
  {
   "cell_type": "code",
   "execution_count": 27,
   "metadata": {},
   "outputs": [
    {
     "name": "stdout",
     "output_type": "stream",
     "text": [
      "Model loaded from lstm_wavebound.pth\n"
     ]
    },
    {
     "name": "stderr",
     "output_type": "stream",
     "text": [
      "C:\\Users\\johnkim\\AppData\\Local\\Temp\\ipykernel_1640\\1131385456.py:3: FutureWarning: You are using `torch.load` with `weights_only=False` (the current default value), which uses the default pickle module implicitly. It is possible to construct malicious pickle data which will execute arbitrary code during unpickling (See https://github.com/pytorch/pytorch/blob/main/SECURITY.md#untrusted-models for more details). In a future release, the default value for `weights_only` will be flipped to `True`. This limits the functions that could be executed during unpickling. Arbitrary objects will no longer be allowed to be loaded via this mode unless they are explicitly allowlisted by the user via `torch.serialization.add_safe_globals`. We recommend you start setting `weights_only=True` for any use case where you don't have full control of the loaded file. Please open an issue on GitHub for any issues related to this experimental feature.\n",
      "  model.load_state_dict(torch.load(\"lstm_wavebound.pth\"))\n"
     ]
    }
   ],
   "source": [
    "# Load the saved model for testing\n",
    "model = LSTMClassifier(INPUT_SIZE, HIDDEN_SIZE, NUM_LAYERS, OUTPUT_SIZE, dropout_rate=DROPOUT_RATE)\n",
    "model.load_state_dict(torch.load(\"lstm_wavebound.pth\"))\n",
    "model.to(device)\n",
    "model.eval()\n",
    "print(f\"Model loaded from lstm_wavebound.pth\")"
   ]
  },
  {
   "cell_type": "code",
   "execution_count": 28,
   "metadata": {},
   "outputs": [
    {
     "name": "stderr",
     "output_type": "stream",
     "text": [
      "                                                            "
     ]
    },
    {
     "name": "stdout",
     "output_type": "stream",
     "text": [
      "Wavebound LSTM Test Accuracy: 53.33%\n"
     ]
    },
    {
     "name": "stderr",
     "output_type": "stream",
     "text": [
      "\r"
     ]
    }
   ],
   "source": [
    "predictions = []\n",
    "# Evaluation on test data\n",
    "correct = 0\n",
    "total = 0\n",
    "with torch.no_grad():\n",
    "    for sequences, labels in tqdm(test_loader, desc='Testing', leave=False):\n",
    "        sequences, labels = sequences.to(device), labels.to(device)\n",
    "        outputs = model(sequences)\n",
    "        predicted = (outputs >= 0.5).float()\n",
    "        predictions.extend([int(pred.item()) for pred in predicted])\n",
    "        \n",
    "        total += labels.size(0)\n",
    "        correct += (predicted.squeeze() == labels).sum().item()\n",
    "\n",
    "accuracy = correct / total\n",
    "print(f'Wavebound LSTM Test Accuracy: {accuracy * 100:.2f}%')"
   ]
  },
  {
   "cell_type": "code",
   "execution_count": null,
   "metadata": {},
   "outputs": [],
   "source": []
  },
  {
   "cell_type": "code",
   "execution_count": 29,
   "metadata": {},
   "outputs": [
    {
     "name": "stdout",
     "output_type": "stream",
     "text": [
      "Predictions saved to 'predictions_with_dates.csv'\n"
     ]
    }
   ],
   "source": [
    "# Assuming `predictions` is a list of predicted values and `test_data` contains the dates.\n",
    "# Create a DataFrame with the dates and predictions\n",
    "predictions_df = pd.DataFrame({\n",
    "    'Date': test_data.index[-len(predictions):],  # Align the dates with predictions\n",
    "    'Predictions': predictions\n",
    "})\n",
    "\n",
    "# Save the DataFrame to a CSV file\n",
    "predictions_df.to_csv('predictions_with_dates.csv', index=False)\n",
    "\n",
    "print(\"Predictions saved to 'predictions_with_dates.csv'\")\n"
   ]
  },
  {
   "cell_type": "code",
   "execution_count": 30,
   "metadata": {},
   "outputs": [],
   "source": [
    "import pandas as pd\n",
    "import os\n",
    "\n",
    "\n",
    "result_folder = 'D:/김홍민/김재윤 교수님 연구실/졸업 준비/병아리'\n",
    "\n",
    "# Function to process trading data\n",
    "def process_trading_data(df):\n",
    "    # 초기화\n",
    "    buy_price = None\n",
    "    sell_price = None\n",
    "    holding = False\n",
    "    df['Unrealized_profit'] = 0\n",
    "    df['Cumulative_Profit'] = 0  # 누적 이익 초기화\n",
    "    current_profit = 0\n",
    "    initial_price = None\n",
    "    for index, row in df.iterrows():\n",
    "        action = row['action']\n",
    "        profit = 0\n",
    "\n",
    "        if action == 'Long':\n",
    "            buy_price = row['Close']  # Long 시, 매수 가격을 설정\n",
    "            holding = True\n",
    "            if initial_price is None:  # 초기 가격 설정\n",
    "                initial_price = buy_price\n",
    "        elif action == 'Short':\n",
    "            sell_price = row['Close']  # Short 시, 매도 가격을 설정\n",
    "            holding = True\n",
    "            if initial_price is None:  # 초기 가격 설정\n",
    "                initial_price = sell_price\n",
    "        elif action == 'Holding' and holding and buy_price is not None:\n",
    "            df.at[index, 'Unrealized_profit'] = (row['Close'] - buy_price)\n",
    "        elif action == 'Holding' and holding and sell_price is not None:\n",
    "            df.at[index, 'Unrealized_profit'] = (sell_price - row['Close'])\n",
    "        elif action == 'Exit' and holding and buy_price is not None:\n",
    "            df.at[index, 'Unrealized_profit'] = (row['Close'] - buy_price) - 0.01\n",
    "            profit = df.at[index, 'Unrealized_profit']\n",
    "            df.at[index, 'Cumulative_Profit'] = current_profit + profit  # 누적 이익 업데이트\n",
    "            current_profit = df.at[index, 'Cumulative_Profit']\n",
    "            buy_price = None\n",
    "            holding = False\n",
    "        elif action == 'Exit' and holding and sell_price is not None:\n",
    "            df.at[index, 'Unrealized_profit'] = (sell_price - row['Close']) - 0.01\n",
    "            profit = df.at[index, 'Unrealized_profit']\n",
    "            df.at[index, 'Cumulative_Profit'] = current_profit + profit  # 누적 이익 업데이트\n",
    "            current_profit = df.at[index, 'Cumulative_Profit']\n",
    "            sell_price = None\n",
    "            holding = False\n",
    "        elif action == 'no action' and holding:\n",
    "            pass\n",
    "\n",
    "    # 수익률 계산 및 누적 수익 계산\n",
    "    df['Cumulative_Return'] = (df['Cumulative_Profit'] / initial_price) * 100\n",
    "    df['Unrealized_Return'] = (df['Unrealized_profit'] / initial_price) * 100\n",
    "\n",
    "    # 누적 수익 + 미실현 수익률 컬럼 추가\n",
    "    df['Unrealized_profit_plus_Cumulative_Profit'] = df['Cumulative_Profit'] + df['Unrealized_profit']\n",
    "    df['Unrealized_profit_plus_Cumulative_Profit_Return'] = (df['Unrealized_profit_plus_Cumulative_Profit'] / initial_price) * 100\n",
    "    df['Cum_portfolio'] = df['Cumulative_Profit'] + initial_price\n",
    "    df['Unreal_Cum_portfolio'] = df['Unrealized_profit'] + initial_price\n",
    "\n",
    "    # 매매 결과 총 정리\n",
    "    df['action'] = df['action'].replace('no action', 0).replace('Long', 1).replace('Short', 2).replace('Exit', -1)\n",
    "\n",
    "    # 거래 횟수 및 승률\n",
    "    no_trade = len(df[df['action'] == -1]) - len(df[(df['action'] == -1) & (df['Unrealized_profit'] == 0)])\n",
    "    winning_ratio = len(df[(df['action'] == -1) & (df['Unrealized_profit'] > 0)]) / no_trade if no_trade > 0 else 0\n",
    "\n",
    "    profit_average = df[(df['action'] == -1) & (df['Unrealized_profit'] > 0)]['Unrealized_profit'].mean()\n",
    "    loss_average = df[(df['action'] == -1) & (df['Unrealized_profit'] < 0)]['Unrealized_profit'].mean()\n",
    "\n",
    "    # Payoff Ratio, Profit Factor\n",
    "    payoff_ratio = profit_average / -loss_average if loss_average < 0 else 0\n",
    "    profit_factor = -df[(df['action'] == -1) & (df['Unrealized_profit'] > 0)]['Unrealized_profit'].sum() / df[(df['action'] == -1) & (df['Unrealized_profit'] < 0)]['Unrealized_profit'].sum()\n",
    "\n",
    "    # Maximum Drawdown (MDD) - 전체 데이터\n",
    "    peak = df['Cum_portfolio'].cummax()  # 각 시점까지의 누적 최고치 추적\n",
    "    drawdown = (peak - df['Cum_portfolio']) / peak  # 최고점에서 얼마만큼 떨어졌는지 계산\n",
    "    max_drawdown = drawdown.max() * 100  # 최대 드로우다운(낙폭)을 계산\n",
    "\n",
    "    peak_unreal = df['Unreal_Cum_portfolio'].cummax()  # 미실현 수익 포함한 포트폴리오의 누적 최고치 추적\n",
    "    drawdown_unreal = (peak_unreal - df['Unreal_Cum_portfolio']) / peak_unreal  # 미실현 수익 포함한 드로우다운 계산\n",
    "    portfolio_max_drawdown = drawdown_unreal.max() * 100  # 포트폴리오의 최대 드로우다운 계산\n",
    "    \n",
    "    # 누적 수익 및 손실\n",
    "    max_cum_profit = df[df['Cumulative_Profit'] != 0]['Cumulative_Profit'].max()\n",
    "    max_cum_loss = df[df['Cumulative_Profit'] != 0]['Cumulative_Profit'].min()\n",
    "    last_cumulative = df['Cumulative_Profit'].iloc[-1]\n",
    "\n",
    "    # 요약 데이터 프레임 생성\n",
    "    summary_data = [[no_trade, winning_ratio, profit_average, loss_average, payoff_ratio, profit_factor, max_drawdown, portfolio_max_drawdown, max_cum_profit, max_cum_loss, last_cumulative]]\n",
    "    summary_df = pd.DataFrame(summary_data, columns=['No_Trade', 'Winning_Ratio', 'Profit_Average', 'Loss_Average', 'Payoff_Ratio', 'Profit_Factor', 'Max_Drawdown', 'Portfolio_Max_Drawdown', 'Max_Cumulative_Profit', 'Max_Cumulative_Loss', 'Last_Cumulative'])\n",
    "    \n",
    "    return summary_df\n",
    "\n"
   ]
  },
  {
   "cell_type": "code",
   "execution_count": null,
   "metadata": {},
   "outputs": [
    {
     "name": "stderr",
     "output_type": "stream",
     "text": [
      "C:\\Users\\johnkim\\AppData\\Local\\Temp\\ipykernel_1640\\1194531719.py:24: SettingWithCopyWarning: \n",
      "A value is trying to be set on a copy of a slice from a DataFrame.\n",
      "Try using .loc[row_indexer,col_indexer] = value instead\n",
      "\n",
      "See the caveats in the documentation: https://pandas.pydata.org/pandas-docs/stable/user_guide/indexing.html#returning-a-view-versus-a-copy\n",
      "  test_data['action'] = actions\n"
     ]
    }
   ],
   "source": [
    "# LSTM 예측 결과를 기반으로 action 결정\n",
    "actions = ['Holding']  # 첫 번째 데이터는 Holding으로 설정\n",
    "previous_action = 'Holding'  # 첫 번째 행동은 보유로 시작\n",
    "\n",
    "\n",
    "# 'predictions'는 시퀀스 데이터로 인해 test_data보다 길이가 짧을 수 있으므로 예측의 시작 지점부터 설정\n",
    "for i in range(1, len(test_data)):\n",
    "    if i < len(predictions):  # 예측값이 있는 구간에 대해 액션 결정\n",
    "        if predictions[i] == 1 and previous_action != 'Long':  # 상승 예측 (Long)\n",
    "            action = 'Long'\n",
    "        elif predictions[i] <= 0.5 and previous_action != 'Long':  # \n",
    "            action = 'Long'\n",
    "        elif (predictions[i] > 0.5 and previous_action == 'Exit') or (predictions[i] <= 0.5 and previous_action == 'Long'):\n",
    "            action = 'Exit'  # 반대 방향 예측 시 Exit   \n",
    "        else:\n",
    "            action = 'Holding'  # 변동이 적거나 동일한 예측일 경우\n",
    "    else:\n",
    "        action = 'Holding'  # 예측값이 없을 경우 Holding 유지\n",
    "\n",
    "    actions.append(action)\n",
    "    previous_action = action\n",
    "\n",
    "    # Test data에 action 컬럼 추가\n",
    "test_data['action'] = actions\n",
    "\n",
    "    \n"
   ]
  },
  {
   "cell_type": "code",
   "execution_count": null,
   "metadata": {},
   "outputs": [
    {
     "name": "stderr",
     "output_type": "stream",
     "text": [
      "C:\\Users\\johnkim\\AppData\\Local\\Temp\\ipykernel_1640\\113743250.py:13: SettingWithCopyWarning: \n",
      "A value is trying to be set on a copy of a slice from a DataFrame.\n",
      "Try using .loc[row_indexer,col_indexer] = value instead\n",
      "\n",
      "See the caveats in the documentation: https://pandas.pydata.org/pandas-docs/stable/user_guide/indexing.html#returning-a-view-versus-a-copy\n",
      "  df['Unrealized_profit'] = 0\n",
      "C:\\Users\\johnkim\\AppData\\Local\\Temp\\ipykernel_1640\\113743250.py:14: SettingWithCopyWarning: \n",
      "A value is trying to be set on a copy of a slice from a DataFrame.\n",
      "Try using .loc[row_indexer,col_indexer] = value instead\n",
      "\n",
      "See the caveats in the documentation: https://pandas.pydata.org/pandas-docs/stable/user_guide/indexing.html#returning-a-view-versus-a-copy\n",
      "  df['Cumulative_Profit'] = 0  # 누적 이익 초기화\n",
      "C:\\Users\\johnkim\\AppData\\Local\\Temp\\ipykernel_1640\\113743250.py:36: FutureWarning: Setting an item of incompatible dtype is deprecated and will raise an error in a future version of pandas. Value '-0.1099999999985448' has dtype incompatible with int64, please explicitly cast to a compatible dtype first.\n",
      "  df.at[index, 'Unrealized_profit'] = (row['Close'] - buy_price) - 0.01\n",
      "C:\\Users\\johnkim\\AppData\\Local\\Temp\\ipykernel_1640\\113743250.py:38: FutureWarning: Setting an item of incompatible dtype is deprecated and will raise an error in a future version of pandas. Value '-0.1099999999985448' has dtype incompatible with int64, please explicitly cast to a compatible dtype first.\n",
      "  df.at[index, 'Cumulative_Profit'] = current_profit + profit  # 누적 이익 업데이트\n",
      "C:\\Users\\johnkim\\AppData\\Local\\Temp\\ipykernel_1640\\113743250.py:53: SettingWithCopyWarning: \n",
      "A value is trying to be set on a copy of a slice from a DataFrame.\n",
      "Try using .loc[row_indexer,col_indexer] = value instead\n",
      "\n",
      "See the caveats in the documentation: https://pandas.pydata.org/pandas-docs/stable/user_guide/indexing.html#returning-a-view-versus-a-copy\n",
      "  df['Cumulative_Return'] = (df['Cumulative_Profit'] / initial_price) * 100\n",
      "C:\\Users\\johnkim\\AppData\\Local\\Temp\\ipykernel_1640\\113743250.py:54: SettingWithCopyWarning: \n",
      "A value is trying to be set on a copy of a slice from a DataFrame.\n",
      "Try using .loc[row_indexer,col_indexer] = value instead\n",
      "\n",
      "See the caveats in the documentation: https://pandas.pydata.org/pandas-docs/stable/user_guide/indexing.html#returning-a-view-versus-a-copy\n",
      "  df['Unrealized_Return'] = (df['Unrealized_profit'] / initial_price) * 100\n",
      "C:\\Users\\johnkim\\AppData\\Local\\Temp\\ipykernel_1640\\113743250.py:57: SettingWithCopyWarning: \n",
      "A value is trying to be set on a copy of a slice from a DataFrame.\n",
      "Try using .loc[row_indexer,col_indexer] = value instead\n",
      "\n",
      "See the caveats in the documentation: https://pandas.pydata.org/pandas-docs/stable/user_guide/indexing.html#returning-a-view-versus-a-copy\n",
      "  df['Unrealized_profit_plus_Cumulative_Profit'] = df['Cumulative_Profit'] + df['Unrealized_profit']\n",
      "C:\\Users\\johnkim\\AppData\\Local\\Temp\\ipykernel_1640\\113743250.py:58: SettingWithCopyWarning: \n",
      "A value is trying to be set on a copy of a slice from a DataFrame.\n",
      "Try using .loc[row_indexer,col_indexer] = value instead\n",
      "\n",
      "See the caveats in the documentation: https://pandas.pydata.org/pandas-docs/stable/user_guide/indexing.html#returning-a-view-versus-a-copy\n",
      "  df['Unrealized_profit_plus_Cumulative_Profit_Return'] = (df['Unrealized_profit_plus_Cumulative_Profit'] / initial_price) * 100\n",
      "C:\\Users\\johnkim\\AppData\\Local\\Temp\\ipykernel_1640\\113743250.py:59: SettingWithCopyWarning: \n",
      "A value is trying to be set on a copy of a slice from a DataFrame.\n",
      "Try using .loc[row_indexer,col_indexer] = value instead\n",
      "\n",
      "See the caveats in the documentation: https://pandas.pydata.org/pandas-docs/stable/user_guide/indexing.html#returning-a-view-versus-a-copy\n",
      "  df['Cum_portfolio'] = df['Cumulative_Profit'] + initial_price\n",
      "C:\\Users\\johnkim\\AppData\\Local\\Temp\\ipykernel_1640\\113743250.py:60: SettingWithCopyWarning: \n",
      "A value is trying to be set on a copy of a slice from a DataFrame.\n",
      "Try using .loc[row_indexer,col_indexer] = value instead\n",
      "\n",
      "See the caveats in the documentation: https://pandas.pydata.org/pandas-docs/stable/user_guide/indexing.html#returning-a-view-versus-a-copy\n",
      "  df['Unreal_Cum_portfolio'] = df['Unrealized_profit'] + initial_price\n",
      "C:\\Users\\johnkim\\AppData\\Local\\Temp\\ipykernel_1640\\113743250.py:63: SettingWithCopyWarning: \n",
      "A value is trying to be set on a copy of a slice from a DataFrame.\n",
      "Try using .loc[row_indexer,col_indexer] = value instead\n",
      "\n",
      "See the caveats in the documentation: https://pandas.pydata.org/pandas-docs/stable/user_guide/indexing.html#returning-a-view-versus-a-copy\n",
      "  df['action'] = df['action'].replace('no action', 0).replace('Long', 1).replace('Short', 2).replace('Exit', -1)\n"
     ]
    }
   ],
   "source": [
    "# LSTM 모델의 예측을 기반으로 수익률을 평가하는 함수 호출\n",
    "summary_df = process_trading_data(test_data)\n"
   ]
  },
  {
   "cell_type": "code",
   "execution_count": 33,
   "metadata": {},
   "outputs": [
    {
     "name": "stdout",
     "output_type": "stream",
     "text": [
      "   No_Trade  Winning_Ratio  Profit_Average  Loss_Average  Payoff_Ratio  \\\n",
      "0       176       0.454545        555.7375   -413.420417      1.344243   \n",
      "\n",
      "   Profit_Factor  Max_Drawdown  Portfolio_Max_Drawdown  Max_Cumulative_Profit  \\\n",
      "0       1.120202     46.166582               44.339652                4770.64   \n",
      "\n",
      "   Max_Cumulative_Loss  Last_Cumulative  \n",
      "0             -5654.96              0.0  \n"
     ]
    }
   ],
   "source": [
    "\n",
    "# 성과 지표 출력\n",
    "print(summary_df)"
   ]
  },
  {
   "cell_type": "code",
   "execution_count": null,
   "metadata": {},
   "outputs": [],
   "source": []
  }
 ],
 "metadata": {
  "kernelspec": {
   "display_name": "Python 3",
   "language": "python",
   "name": "python3"
  },
  "language_info": {
   "codemirror_mode": {
    "name": "ipython",
    "version": 3
   },
   "file_extension": ".py",
   "mimetype": "text/x-python",
   "name": "python",
   "nbconvert_exporter": "python",
   "pygments_lexer": "ipython3",
   "version": "3.12.0"
  }
 },
 "nbformat": 4,
 "nbformat_minor": 2
}
